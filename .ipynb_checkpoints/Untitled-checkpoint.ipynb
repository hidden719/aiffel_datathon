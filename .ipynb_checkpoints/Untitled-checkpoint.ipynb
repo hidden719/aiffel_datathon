{
 "cells": [
  {
   "cell_type": "code",
   "execution_count": 1,
   "id": "aeb24302-f0d9-4516-9913-45f27680d58d",
   "metadata": {},
   "outputs": [],
   "source": [
    "import pandas as pd\n",
    "import numpy as np"
   ]
  },
  {
   "cell_type": "code",
   "execution_count": null,
   "id": "d9cbbd53-e620-402f-bf9f-a25e768c298b",
   "metadata": {},
   "outputs": [],
   "source": [
    "train = pd.read_csv('./data/train.csv')\n",
    "b_keyword = pd.read_csv('./data/brand_keyword_cnt.csv')\n",
    "sales = pd.read_csv('./data/sales.csv')\n",
    "prd_info = pd.read_csv('./data/product_info.csv')"
   ]
  }
 ],
 "metadata": {
  "kernelspec": {
   "display_name": "aiffel",
   "language": "python",
   "name": "aiffel"
  },
  "language_info": {
   "codemirror_mode": {
    "name": "ipython",
    "version": 3
   },
   "file_extension": ".py",
   "mimetype": "text/x-python",
   "name": "python",
   "nbconvert_exporter": "python",
   "pygments_lexer": "ipython3",
   "version": "3.9.18"
  }
 },
 "nbformat": 4,
 "nbformat_minor": 5
}
